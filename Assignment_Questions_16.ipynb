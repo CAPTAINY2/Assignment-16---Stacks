{
  "nbformat": 4,
  "nbformat_minor": 0,
  "metadata": {
    "colab": {
      "provenance": [],
      "authorship_tag": "ABX9TyP2aIYMr6fUeR1IfrHZR/Tw",
      "include_colab_link": true
    },
    "kernelspec": {
      "name": "python3",
      "display_name": "Python 3"
    },
    "language_info": {
      "name": "python"
    }
  },
  "cells": [
    {
      "cell_type": "markdown",
      "metadata": {
        "id": "view-in-github",
        "colab_type": "text"
      },
      "source": [
        "<a href=\"https://colab.research.google.com/github/CAPTAINY2/Assignment-16---Stacks/blob/main/Assignment_Questions_16.ipynb\" target=\"_parent\"><img src=\"https://colab.research.google.com/assets/colab-badge.svg\" alt=\"Open In Colab\"/></a>"
      ]
    },
    {
      "cell_type": "markdown",
      "source": [
        "### QUESTION-1"
      ],
      "metadata": {
        "id": "JbrBv1DCx8_T"
      }
    },
    {
      "cell_type": "code",
      "execution_count": 1,
      "metadata": {
        "colab": {
          "base_uri": "https://localhost:8080/"
        },
        "id": "_AaVO7NMSiYH",
        "outputId": "b011681e-3d13-4758-ad0a-f04f3e8bb2f7"
      },
      "outputs": [
        {
          "output_type": "stream",
          "name": "stdout",
          "text": [
            "Output 1 : [-1, 1, 1, 2, 3, 4, 2] \n",
            "Output 2 : [-1, 1, 1, -1, 2, 2, 2, 2, 2, 3] \n"
          ]
        }
      ],
      "source": [
        "a1 = [1, 1, 2, 3, 4, 2, 1]\n",
        "a2 = [1, 1, 1, 2, 2, 2, 2, 11, 3, 3]\n",
        "\n",
        "from collections import defaultdict\n",
        "\n",
        "def element(a):\n",
        "    freq = defaultdict(int)\n",
        "    nextFreq = {}\n",
        "    stack = []\n",
        "\n",
        "    for i in range(len(a) - 1, -1, -1):\n",
        "        freq[a[i]] += 1\n",
        "        while stack and freq[a[stack[-1]]] <= freq[a[i]]:\n",
        "            index = stack.pop()\n",
        "            nextFreq[index] = a[i]\n",
        "        stack.append(i)\n",
        "\n",
        "    while stack:\n",
        "        index = stack.pop()\n",
        "        nextFreq[index] = -1\n",
        "\n",
        "    result = []\n",
        "    for i in range(len(a)):\n",
        "        result.append(nextFreq.get(i, -1))\n",
        "\n",
        "    return result\n",
        "\n",
        "print(f\"Output 1 : {element(a1)} \")\n",
        "\n",
        "print(f\"Output 2 : {element(a2)} \")"
      ]
    },
    {
      "cell_type": "markdown",
      "source": [
        "### QUESTION-2"
      ],
      "metadata": {
        "id": "uJzCpa4dyA1i"
      }
    },
    {
      "cell_type": "code",
      "source": [
        "stack1 = [34, 3, 31, 98, 92, 23]\n",
        "stack2 = [3, 5, 1, 4, 2, 8]\n",
        "\n",
        "def inc(stack):\n",
        "    tempStack = []\n",
        "\n",
        "    while stack:\n",
        "        temp = stack.pop()\n",
        "\n",
        "        while tempStack and tempStack[-1] > temp:\n",
        "            stack.append(tempStack.pop())\n",
        "\n",
        "        tempStack.append(temp)\n",
        "\n",
        "    return tempStack\n",
        "\n",
        "print(f\"Output 1: {inc(stack1)}\")\n",
        "\n",
        "print(f\"Output 2: {inc(stack2)}\")"
      ],
      "metadata": {
        "id": "mvFlopI0Z-l4",
        "colab": {
          "base_uri": "https://localhost:8080/"
        },
        "outputId": "e9ba3cda-130c-448e-b30d-66730a79a355"
      },
      "execution_count": 2,
      "outputs": [
        {
          "output_type": "stream",
          "name": "stdout",
          "text": [
            "Output 1: [3, 23, 31, 34, 92, 98]\n",
            "Output 2: [1, 2, 3, 4, 5, 8]\n"
          ]
        }
      ]
    },
    {
      "cell_type": "markdown",
      "source": [
        "### QUESTION-3"
      ],
      "metadata": {
        "id": "dLFv9HvPyCc-"
      }
    },
    {
      "cell_type": "code",
      "source": [
        "stack1 = [1, 2, 3, 4, 5]\n",
        "stack2 = [1, 2, 3, 4, 5, 6]\n",
        "\n",
        "def element(stack):\n",
        "    n = len(stack)\n",
        "    mid = n // 2 + 1\n",
        "    tempStack = []\n",
        "\n",
        "    for i in range(mid - 1):\n",
        "        tempStack.append(stack.pop())\n",
        "\n",
        "    stack.pop()\n",
        "\n",
        "    while tempStack:\n",
        "        stack.append(tempStack.pop())\n",
        "\n",
        "    return stack\n",
        "\n",
        "print(f\"Output 1: {element(stack1)}\")\n",
        "\n",
        "print(f\"Output 2: {element(stack2)}\")"
      ],
      "metadata": {
        "colab": {
          "base_uri": "https://localhost:8080/"
        },
        "id": "tO1ktvzPzC-e",
        "outputId": "25186659-a3ed-4109-ef9b-493b56bfa55f"
      },
      "execution_count": 3,
      "outputs": [
        {
          "output_type": "stream",
          "name": "stdout",
          "text": [
            "Output 1: [1, 2, 4, 5]\n",
            "Output 2: [1, 2, 4, 5, 6]\n"
          ]
        }
      ]
    },
    {
      "cell_type": "markdown",
      "source": [
        "### QUESTION-4"
      ],
      "metadata": {
        "id": "_qUst1D-yEIr"
      }
    },
    {
      "cell_type": "code",
      "source": [
        "queue1 = [5, 1, 2, 3, 4]\n",
        "queue2 = [5, 1, 2, 6, 3, 4]\n",
        "\n",
        "def check(queue):\n",
        "    stack = []\n",
        "    second_queue = []\n",
        "\n",
        "    for i in queue:\n",
        "        if len(second_queue) > 0 and i == second_queue[-1] + 1:\n",
        "            continue\n",
        "\n",
        "        while len(stack) > 0 and stack[-1 ] < i:\n",
        "            second_queue.append(stack.pop())\n",
        "\n",
        "        stack.append(i)\n",
        "\n",
        "    while len(stack) > 0:\n",
        "        second_queue.append(stack.pop())\n",
        "\n",
        "    return \"Yes\" if second_queue == sorted(second_queue) else \"No\"\n",
        "\n",
        "\n",
        "print(f\"Output 1: {check(queue1)}\")\n",
        "\n",
        "print(f\"Output 2: {check(queue2)}\")\n"
      ],
      "metadata": {
        "colab": {
          "base_uri": "https://localhost:8080/"
        },
        "id": "yJmN6P5rnHSR",
        "outputId": "6036895e-28cc-4334-e5cd-fae302dc4123"
      },
      "execution_count": 15,
      "outputs": [
        {
          "output_type": "stream",
          "name": "stdout",
          "text": [
            "Output 1: Yes\n",
            "Output 2: No\n"
          ]
        }
      ]
    },
    {
      "cell_type": "markdown",
      "source": [
        "### QUESTION-5"
      ],
      "metadata": {
        "id": "bS8iqyZ3yFnF"
      }
    },
    {
      "cell_type": "code",
      "source": [
        "num1 = 365\n",
        "num2 = 6899\n",
        "\n",
        "def reverse(num):\n",
        "    num_str = str(num)\n",
        "    stack = []\n",
        "\n",
        "    for i in num_str:\n",
        "        stack.append(i)\n",
        "\n",
        "    reverse_str = \"\"\n",
        "    while len(stack) > 0:\n",
        "        reverse_str += stack.pop()\n",
        "\n",
        "    reversed_num = int(reverse_str)\n",
        "    return reversed_num\n",
        "\n",
        "print(f\"Output 1: {reverse(num1)}\")\n",
        "\n",
        "print(f\"Output 2: {reverse(num2)}\")\n"
      ],
      "metadata": {
        "colab": {
          "base_uri": "https://localhost:8080/"
        },
        "id": "687yqGoongx0",
        "outputId": "2122f4df-bc35-406a-94e0-25795d7e1b19"
      },
      "execution_count": 14,
      "outputs": [
        {
          "output_type": "stream",
          "name": "stdout",
          "text": [
            "Output 1: 563\n",
            "Output 2: 9986\n"
          ]
        }
      ]
    },
    {
      "cell_type": "markdown",
      "source": [
        "### QUESTION-6\n"
      ],
      "metadata": {
        "id": "rv3WEmoxyHQP"
      }
    },
    {
      "cell_type": "code",
      "source": [
        "\n",
        "from collections import deque\n",
        "\n",
        "def elements(queue, k):\n",
        "    if k <= 0 or k > len(queue):\n",
        "        return queue\n",
        "\n",
        "    stack = []\n",
        "    for i in range(k):\n",
        "        stack.append(queue.popleft())\n",
        "\n",
        "    while stack:\n",
        "        queue.append(stack.pop())\n",
        "\n",
        "    for i in range(len(queue) - k):\n",
        "        queue.append(queue.popleft())\n",
        "\n",
        "    return queue\n",
        "\n",
        "queue = deque([1, 2, 3, 4, 5])\n",
        "k = 3\n",
        "\n",
        "print(f\"Output: {elements(queue, k)}\")\n"
      ],
      "metadata": {
        "colab": {
          "base_uri": "https://localhost:8080/"
        },
        "id": "YDShgtUfrMvX",
        "outputId": "d92d2242-de89-4f72-e26d-192e085c27bb"
      },
      "execution_count": 20,
      "outputs": [
        {
          "output_type": "stream",
          "name": "stdout",
          "text": [
            "Output: deque([3, 2, 1, 4, 5])\n"
          ]
        }
      ]
    },
    {
      "cell_type": "markdown",
      "source": [
        "### QUESTION-7"
      ],
      "metadata": {
        "id": "g2cGYYH7yJW5"
      }
    },
    {
      "cell_type": "code",
      "source": [
        "sequence1 = ['ab', 'aa', 'aa', 'bcd', 'ab']\n",
        "sequence2 = ['tom','jerry' ,'jerry','tom']\n",
        "\n",
        "def remaining(sequence):\n",
        "    stack = []\n",
        "\n",
        "    for i in sequence:\n",
        "        if stack and i == stack[-1]:\n",
        "            stack.pop()\n",
        "        else:\n",
        "            stack.append(i)\n",
        "\n",
        "    return len(stack)\n",
        "\n",
        "print(f\"Output 1: {remaining(sequence1)}\")\n",
        "\n",
        "print(f\"Output 2: {remaining(sequence2)}\")\n"
      ],
      "metadata": {
        "colab": {
          "base_uri": "https://localhost:8080/"
        },
        "id": "E4PsWQyKsobG",
        "outputId": "a7e2451e-9939-4956-8c54-bf0f72f2b155"
      },
      "execution_count": 26,
      "outputs": [
        {
          "output_type": "stream",
          "name": "stdout",
          "text": [
            "Output 1: 3\n",
            "Output 2: 0\n"
          ]
        }
      ]
    },
    {
      "cell_type": "markdown",
      "source": [
        "### QUESTION-8"
      ],
      "metadata": {
        "id": "sSWvCGIWyKuY"
      }
    },
    {
      "cell_type": "code",
      "source": [
        "arr1 = [2, 1, 8]\n",
        "arr2 = [2, 4, 8, 7, 7, 9, 3]\n",
        "arr3 = [5, 1, 9, 2, 5, 1, 7]\n",
        "\n",
        "def max_difference(arr):\n",
        "    n = len(arr)\n",
        "    LS = [0] * n\n",
        "    RS = [0] * n\n",
        "    stack = []\n",
        "    for i in range(n):\n",
        "        while stack and stack[-1] >= arr[i]:\n",
        "            stack.pop()\n",
        "        if stack:\n",
        "            LS[i] = stack[-1]\n",
        "        stack.append(arr[i])\n",
        "\n",
        "    stack.clear()\n",
        "    for i in range(n - 1, -1, -1):\n",
        "        while stack and stack[-1] >= arr[i]:\n",
        "            stack.pop()\n",
        "        if stack:\n",
        "            RS[i] = stack[-1]\n",
        "        stack.append(arr[i])\n",
        "\n",
        "    max_diff = 0\n",
        "\n",
        "    for i in range(n):\n",
        "        diff = abs(LS[i] - RS[i])\n",
        "        max_diff = max(max_diff, diff)\n",
        "\n",
        "    return max_diff\n",
        "\n",
        "print(f\"Output 1: {max_difference(arr1)}\")\n",
        "print(f\"Output 2: {max_difference(arr2)}\")\n",
        "print(f\"Output 3: {max_difference(arr3)}\")"
      ],
      "metadata": {
        "colab": {
          "base_uri": "https://localhost:8080/"
        },
        "id": "PiKXA2phtMKr",
        "outputId": "4b4ff1b4-d88c-4bd8-eebc-b1b984be4cf5"
      },
      "execution_count": 29,
      "outputs": [
        {
          "output_type": "stream",
          "name": "stdout",
          "text": [
            "Output 1: 1\n",
            "Output 2: 4\n",
            "Output 3: 1\n"
          ]
        }
      ]
    },
    {
      "cell_type": "code",
      "source": [],
      "metadata": {
        "id": "ptG8L1c9utuD"
      },
      "execution_count": null,
      "outputs": []
    }
  ]
}